{
 "cells": [
  {
   "cell_type": "code",
   "execution_count": 1,
   "metadata": {},
   "outputs": [],
   "source": [
    "# The helpers use the application default credentials.\n",
    "from cmle_training import CMLETraining\n",
    "\n",
    "execfile('cmle_training.py')"
   ]
  },
  {
   "cell_type": "markdown",
   "metadata": {},
   "source": [
    "## run locally"
   ]
  },
  {
   "cell_type": "markdown",
   "metadata": {},
   "source": [
    "### train"
   ]
  },
  {
   "cell_type": "code",
   "execution_count": 2,
   "metadata": {},
   "outputs": [],
   "source": [
    "import argparse\n",
    "import tensorflow as tf"
   ]
  },
  {
   "cell_type": "code",
   "execution_count": 3,
   "metadata": {},
   "outputs": [],
   "source": [
    "def model_fn(features, labels, mode):\n",
    "    global_step = tf.train.get_or_create_global_step()\n",
    "    hidden = tf.layers.dense(features, 10, activation=tf.nn.relu)\n",
    "    outputs = tf.layers.dense(hidden, 1)\n",
    "\n",
    "    predictions = outputs\n",
    "    loss = None\n",
    "    train_op = None\n",
    "\n",
    "    if mode == tf.estimator.ModeKeys.TRAIN:\n",
    "        loss = tf.nn.l2_loss(outputs - labels)\n",
    "\n",
    "        optimizer = tf.train.GradientDescentOptimizer(learning_rate=0.05)\n",
    "        train_op = optimizer.minimize(loss, global_step=global_step)\n",
    "\n",
    "    return tf.estimator.EstimatorSpec(\n",
    "        mode=mode,\n",
    "        predictions=predictions,\n",
    "        loss=loss,\n",
    "        train_op=train_op\n",
    "    )"
   ]
  },
  {
   "cell_type": "code",
   "execution_count": 4,
   "metadata": {},
   "outputs": [],
   "source": [
    "def train_input_fn():\n",
    "    fake_features = tf.constant([[1], [2]], dtype=tf.float32)\n",
    "    fake_labels = tf.constant([[3], [4]], dtype=tf.float32)\n",
    "    ds = tf.data.Dataset.from_tensor_slices(\n",
    "        (fake_features, fake_labels)\n",
    "    )\n",
    "    return ds.repeat().batch(10)"
   ]
  },
  {
   "cell_type": "code",
   "execution_count": 5,
   "metadata": {},
   "outputs": [],
   "source": [
    "def parse_args():\n",
    "    parser = argparse.ArgumentParser()\n",
    "    parser.add_argument(\n",
    "        '--job-dir',\n",
    "        default='/tmp/cmle'\n",
    "    )\n",
    "    parser.add_argument(\n",
    "        '--steps',\n",
    "        type=int,\n",
    "        default=300)\n",
    "\n",
    "    args, unused_args = parser.parse_known_args()\n",
    "\n",
    "    return args"
   ]
  },
  {
   "cell_type": "code",
   "execution_count": 6,
   "metadata": {},
   "outputs": [],
   "source": [
    "# FIXME: this refers to the other functions, and could be brittle\n",
    "def train(args):\n",
    "    estimator = tf.estimator.Estimator(model_fn, model_dir=args.job_dir)\n",
    "    estimator.train(train_input_fn, steps=args.steps)\n",
    "\n",
    "    return estimator"
   ]
  },
  {
   "cell_type": "code",
   "execution_count": 7,
   "metadata": {},
   "outputs": [],
   "source": [
    "# wrapper that handles training locally and on CMLE\n",
    "\n",
    "toy = CMLETraining(model_fn=model_fn, train_input_fn=train_input_fn, parse_args=parse_args, train=train)"
   ]
  },
  {
   "cell_type": "code",
   "execution_count": 8,
   "metadata": {},
   "outputs": [
    {
     "name": "stdout",
     "output_type": "stream",
     "text": [
      "Namespace(job_dir='/tmp/cmle', steps=300)\n",
      "INFO:tensorflow:Using default config.\n",
      "INFO:tensorflow:Using config: {'_save_checkpoints_secs': 600, '_num_ps_replicas': 0, '_keep_checkpoint_max': 5, '_task_type': 'worker', '_global_id_in_cluster': 0, '_is_chief': True, '_cluster_spec': <tensorflow.python.training.server_lib.ClusterSpec object at 0x108f08b10>, '_model_dir': '/tmp/cmle', '_protocol': None, '_save_checkpoints_steps': None, '_keep_checkpoint_every_n_hours': 10000, '_service': None, '_session_config': allow_soft_placement: true\n",
      "graph_options {\n",
      "  rewrite_options {\n",
      "    meta_optimizer_iterations: ONE\n",
      "  }\n",
      "}\n",
      ", '_tf_random_seed': None, '_save_summary_steps': 100, '_device_fn': None, '_experimental_distribute': None, '_num_worker_replicas': 1, '_task_id': 0, '_log_step_count_steps': 100, '_evaluation_master': '', '_eval_distribute': None, '_train_distribute': None, '_master': ''}\n",
      "INFO:tensorflow:Calling model_fn.\n",
      "INFO:tensorflow:Done calling model_fn.\n",
      "INFO:tensorflow:Create CheckpointSaverHook.\n",
      "INFO:tensorflow:Graph was finalized.\n",
      "INFO:tensorflow:Restoring parameters from /tmp/cmle/model.ckpt-4200\n",
      "INFO:tensorflow:Running local_init_op.\n",
      "INFO:tensorflow:Done running local_init_op.\n",
      "INFO:tensorflow:Saving checkpoints for 4200 into /tmp/cmle/model.ckpt.\n",
      "INFO:tensorflow:loss = 1.25, step = 4201\n",
      "INFO:tensorflow:global_step/sec: 1116.25\n",
      "INFO:tensorflow:loss = 1.25, step = 4301 (0.091 sec)\n",
      "INFO:tensorflow:global_step/sec: 1329.49\n",
      "INFO:tensorflow:loss = 1.25, step = 4401 (0.075 sec)\n",
      "INFO:tensorflow:Saving checkpoints for 4500 into /tmp/cmle/model.ckpt.\n",
      "INFO:tensorflow:Loss for final step: 1.25.\n"
     ]
    }
   ],
   "source": [
    "estimator = toy.local_train()"
   ]
  },
  {
   "cell_type": "code",
   "execution_count": null,
   "metadata": {},
   "outputs": [],
   "source": []
  },
  {
   "cell_type": "markdown",
   "metadata": {},
   "source": [
    "### predict"
   ]
  },
  {
   "cell_type": "code",
   "execution_count": 9,
   "metadata": {},
   "outputs": [],
   "source": [
    "predict_input_fn = toy.train_input_fn\n",
    "\n",
    "predictions = estimator.predict(input_fn=predict_input_fn)"
   ]
  },
  {
   "cell_type": "code",
   "execution_count": 10,
   "metadata": {},
   "outputs": [
    {
     "name": "stdout",
     "output_type": "stream",
     "text": [
      "INFO:tensorflow:Calling model_fn.\n",
      "INFO:tensorflow:Done calling model_fn.\n",
      "INFO:tensorflow:Graph was finalized.\n",
      "INFO:tensorflow:Restoring parameters from /tmp/cmle/model.ckpt-4500\n",
      "INFO:tensorflow:Running local_init_op.\n",
      "INFO:tensorflow:Done running local_init_op.\n",
      "[3.5]\n"
     ]
    }
   ],
   "source": [
    "print(next(predictions))"
   ]
  },
  {
   "cell_type": "markdown",
   "metadata": {},
   "source": [
    "## run on CMLE"
   ]
  },
  {
   "cell_type": "markdown",
   "metadata": {},
   "source": [
    "### train"
   ]
  },
  {
   "cell_type": "code",
   "execution_count": 11,
   "metadata": {},
   "outputs": [],
   "source": [
    "cloud_toy = CMLETraining(job_dir='gs://sandbox-cmle/notebook-cmle/', model_fn=model_fn, train_input_fn=train_input_fn, parse_args=parse_args, train=train)"
   ]
  },
  {
   "cell_type": "code",
   "execution_count": 12,
   "metadata": {},
   "outputs": [
    {
     "name": "stdout",
     "output_type": "stream",
     "text": [
      "Job spec: {'trainingInput': {'runtimeVersion': '1.9', 'scaleTier': 'BASIC', 'region': 'us-central1', 'args': ['--job-dir gs://sandbox-cmle/notebook-cmle/', '--steps 1000'], 'pythonModule': 'trainer.task', 'jobDir': 'gs://sandbox-cmle/notebook-cmle/', 'packageUris': ['gs://sandbox-cmle/notebook-cmle/cmle-sample-0.0.1.tar.gz']}, 'jobId': 'test_1539725654'}\n"
     ]
    },
    {
     "data": {
      "text/plain": [
       "{u'createTime': u'2018-10-16T21:34:15Z',\n",
       " u'etag': u'q749/HyXl2I=',\n",
       " u'jobId': u'test_1539725654',\n",
       " u'state': u'QUEUED',\n",
       " u'trainingInput': {u'args': [u'--job-dir gs://sandbox-cmle/notebook-cmle/',\n",
       "   u'--steps 1000'],\n",
       "  u'jobDir': u'gs://sandbox-cmle/notebook-cmle/',\n",
       "  u'packageUris': [u'gs://sandbox-cmle/notebook-cmle/cmle-sample-0.0.1.tar.gz'],\n",
       "  u'pythonModule': u'trainer.task',\n",
       "  u'region': u'us-central1',\n",
       "  u'runtimeVersion': u'1.9'},\n",
       " u'trainingOutput': {}}"
      ]
     },
     "execution_count": 12,
     "metadata": {},
     "output_type": "execute_result"
    }
   ],
   "source": [
    "cloud_toy.cloud_train(project_id='rising-sea-112358', args_dict={'steps': 1000, 'job-dir': cloud_toy.job_dir}, training_input={'runtimeVersion': '1.9'})"
   ]
  },
  {
   "cell_type": "code",
   "execution_count": 13,
   "metadata": {},
   "outputs": [
    {
     "name": "stdout",
     "output_type": "stream",
     "text": [
      "gs://sandbox-cmle/notebook-cmle/\n",
      "gs://sandbox-cmle/notebook-cmle/cmle-sample-0.0.1.tar.gz\n"
     ]
    }
   ],
   "source": [
    "print(cloud_toy.job_dir)\n",
    "print(cloud_toy.package_path)"
   ]
  },
  {
   "cell_type": "markdown",
   "metadata": {},
   "source": [
    "### deploy"
   ]
  },
  {
   "cell_type": "code",
   "execution_count": null,
   "metadata": {},
   "outputs": [],
   "source": []
  },
  {
   "cell_type": "code",
   "execution_count": null,
   "metadata": {},
   "outputs": [],
   "source": []
  },
  {
   "cell_type": "code",
   "execution_count": null,
   "metadata": {},
   "outputs": [],
   "source": []
  },
  {
   "cell_type": "code",
   "execution_count": null,
   "metadata": {},
   "outputs": [],
   "source": []
  },
  {
   "cell_type": "code",
   "execution_count": null,
   "metadata": {},
   "outputs": [],
   "source": []
  },
  {
   "cell_type": "markdown",
   "metadata": {},
   "source": [
    "\n",
    "### predict"
   ]
  },
  {
   "cell_type": "code",
   "execution_count": null,
   "metadata": {},
   "outputs": [],
   "source": []
  },
  {
   "cell_type": "code",
   "execution_count": null,
   "metadata": {},
   "outputs": [],
   "source": []
  },
  {
   "cell_type": "code",
   "execution_count": null,
   "metadata": {},
   "outputs": [],
   "source": []
  },
  {
   "cell_type": "code",
   "execution_count": null,
   "metadata": {},
   "outputs": [],
   "source": []
  },
  {
   "cell_type": "code",
   "execution_count": null,
   "metadata": {},
   "outputs": [],
   "source": []
  }
 ],
 "metadata": {
  "kernelspec": {
   "display_name": "Python 2",
   "language": "python",
   "name": "python2"
  },
  "language_info": {
   "codemirror_mode": {
    "name": "ipython",
    "version": 2
   },
   "file_extension": ".py",
   "mimetype": "text/x-python",
   "name": "python",
   "nbconvert_exporter": "python",
   "pygments_lexer": "ipython2",
   "version": "2.7.10"
  }
 },
 "nbformat": 4,
 "nbformat_minor": 2
}
