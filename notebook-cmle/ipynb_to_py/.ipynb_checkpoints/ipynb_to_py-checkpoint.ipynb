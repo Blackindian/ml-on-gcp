{
 "cells": [
  {
   "cell_type": "code",
   "execution_count": 23,
   "metadata": {},
   "outputs": [],
   "source": [
    "## getdata.py\n",
    "from keras.datasets import mnist\n",
    "from keras.utils.np_utils import to_categorical"
   ]
  },
  {
   "cell_type": "code",
   "execution_count": 24,
   "metadata": {},
   "outputs": [],
   "source": [
    "## getdata.py\n",
    "(x_train, y_train), (x_test, y_test) = mnist.load_data()\n",
    "\n",
    "# one-hot encoding\n",
    "y_train = to_categorical(y_train, num_classes=10)\n",
    "y_test = to_categorical(y_test, num_classes=10)"
   ]
  },
  {
   "cell_type": "markdown",
   "metadata": {},
   "source": [
    "## Visualization/Exploration"
   ]
  },
  {
   "cell_type": "code",
   "execution_count": 25,
   "metadata": {},
   "outputs": [],
   "source": [
    "from matplotlib import pyplot as plt"
   ]
  },
  {
   "cell_type": "code",
   "execution_count": 26,
   "metadata": {},
   "outputs": [
    {
     "data": {
      "image/png": "[encoded data removed]",
      "text/plain": [
       "<matplotlib.figure.Figure at 0x122827490>"
      ]
     },
     "metadata": {},
     "output_type": "display_data"
    }
   ],
   "source": [
    "plt.imshow(x_train[0], cmap='gray')\n",
    "plt.show()"
   ]
  },
  {
   "cell_type": "code",
   "execution_count": 27,
   "metadata": {},
   "outputs": [
    {
     "name": "stdout",
     "output_type": "stream",
     "text": [
      "(60000, 28, 28)\n"
     ]
    }
   ],
   "source": [
    "print(x_train.shape)"
   ]
  },
  {
   "cell_type": "code",
   "execution_count": 28,
   "metadata": {},
   "outputs": [
    {
     "name": "stdout",
     "output_type": "stream",
     "text": [
      "[[0. 0. 0. 0. 0. 1. 0. 0. 0. 0.]\n",
      " [1. 0. 0. 0. 0. 0. 0. 0. 0. 0.]\n",
      " [0. 0. 0. 0. 1. 0. 0. 0. 0. 0.]\n",
      " [0. 1. 0. 0. 0. 0. 0. 0. 0. 0.]\n",
      " [0. 0. 0. 0. 0. 0. 0. 0. 0. 1.]\n",
      " [0. 0. 1. 0. 0. 0. 0. 0. 0. 0.]\n",
      " [0. 1. 0. 0. 0. 0. 0. 0. 0. 0.]\n",
      " [0. 0. 0. 1. 0. 0. 0. 0. 0. 0.]\n",
      " [0. 1. 0. 0. 0. 0. 0. 0. 0. 0.]\n",
      " [0. 0. 0. 0. 1. 0. 0. 0. 0. 0.]]\n"
     ]
    }
   ],
   "source": [
    "print(y_train[:10])"
   ]
  },
  {
   "cell_type": "markdown",
   "metadata": {},
   "source": [
    "## Training"
   ]
  },
  {
   "cell_type": "code",
   "execution_count": 29,
   "metadata": {},
   "outputs": [],
   "source": [
    "## task.py\n",
    "# from getdata import x_train, y_train # This is added to the exported .py file\n",
    "\n",
    "import keras\n",
    "\n",
    "model = keras.models.Sequential()\n",
    "model.add(keras.layers.Flatten(input_shape=(28, 28)))\n",
    "model.add(keras.layers.Dense(128, activation='relu'))\n",
    "model.add(keras.layers.Dense(10, activation='softmax'))"
   ]
  },
  {
   "cell_type": "code",
   "execution_count": 30,
   "metadata": {},
   "outputs": [],
   "source": [
    "## task.py\n",
    "\n",
    "optimizer = keras.optimizers.RMSprop()\n",
    "loss = keras.losses.categorical_crossentropy\n",
    "\n",
    "model.compile(optimizer, loss)"
   ]
  },
  {
   "cell_type": "code",
   "execution_count": 32,
   "metadata": {},
   "outputs": [
    {
     "name": "stdout",
     "output_type": "stream",
     "text": [
      "Epoch 1/2\n",
      "60000/60000 [==============================] - 4s - loss: 5.6048     \n",
      "Epoch 2/2\n",
      "60000/60000 [==============================] - 4s - loss: 5.5616     \n"
     ]
    },
    {
     "data": {
      "text/plain": [
       "<keras.callbacks.History at 0x129c5c9d0>"
      ]
     },
     "execution_count": 32,
     "metadata": {},
     "output_type": "execute_result"
    }
   ],
   "source": [
    "## task.py\n",
    "\n",
    "model.fit(x_train, y_train, epochs=2)"
   ]
  },
  {
   "cell_type": "markdown",
   "metadata": {},
   "source": [
    "## These next cells export the cells marked with \"##\""
   ]
  },
  {
   "cell_type": "code",
   "execution_count": 41,
   "metadata": {},
   "outputs": [],
   "source": [
    "import nbformat\n",
    "import os\n",
    "notebook = nbformat.read('ipynb_to_py.ipynb', as_version=4)"
   ]
  },
  {
   "cell_type": "code",
   "execution_count": 43,
   "metadata": {},
   "outputs": [
    {
     "ename": "TypeError",
     "evalue": "'enumerate' object has no attribute '__getitem__'",
     "output_type": "error",
     "traceback": [
      "\u001b[0;31m---------------------------------------------------------------------------\u001b[0m",
      "\u001b[0;31mTypeError\u001b[0m                                 Traceback (most recent call last)",
      "\u001b[0;32m<ipython-input-43-b590f77b5d6b>\u001b[0m in \u001b[0;36m<module>\u001b[0;34m()\u001b[0m\n\u001b[1;32m     19\u001b[0m     \u001b[0;31m# handle lines that should be added only when exported to .py\u001b[0m\u001b[0;34m\u001b[0m\u001b[0;34m\u001b[0m\u001b[0m\n\u001b[1;32m     20\u001b[0m     \u001b[0;31m# only lines that immediate follow the \"##\" line that starts with \"#\" will have that \"#\" removed\u001b[0m\u001b[0;34m\u001b[0m\u001b[0;34m\u001b[0m\u001b[0m\n\u001b[0;32m---> 21\u001b[0;31m     \u001b[0;32mfor\u001b[0m \u001b[0mi\u001b[0m\u001b[0;34m,\u001b[0m \u001b[0mline\u001b[0m \u001b[0;32min\u001b[0m \u001b[0menumerate\u001b[0m\u001b[0;34m(\u001b[0m\u001b[0mlines\u001b[0m\u001b[0;34m)\u001b[0m\u001b[0;34m[\u001b[0m\u001b[0;36m1\u001b[0m\u001b[0;34m:\u001b[0m\u001b[0;34m]\u001b[0m\u001b[0;34m:\u001b[0m\u001b[0;34m\u001b[0m\u001b[0m\n\u001b[0m\u001b[1;32m     22\u001b[0m         \u001b[0;32mif\u001b[0m \u001b[0mline\u001b[0m\u001b[0;34m.\u001b[0m\u001b[0mstartswith\u001b[0m\u001b[0;34m(\u001b[0m\u001b[0;34m'#'\u001b[0m\u001b[0;34m)\u001b[0m\u001b[0;34m:\u001b[0m\u001b[0;34m\u001b[0m\u001b[0m\n\u001b[1;32m     23\u001b[0m             \u001b[0mcode_line\u001b[0m \u001b[0;34m=\u001b[0m \u001b[0mline\u001b[0m\u001b[0;34m.\u001b[0m\u001b[0mreplace\u001b[0m\u001b[0;34m(\u001b[0m\u001b[0;34m'#'\u001b[0m\u001b[0;34m,\u001b[0m \u001b[0;34m''\u001b[0m\u001b[0;34m,\u001b[0m \u001b[0;36m1\u001b[0m\u001b[0;34m)\u001b[0m\u001b[0;34m.\u001b[0m\u001b[0mstrip\u001b[0m\u001b[0;34m(\u001b[0m\u001b[0;34m)\u001b[0m\u001b[0;34m\u001b[0m\u001b[0m\n",
      "\u001b[0;31mTypeError\u001b[0m: 'enumerate' object has no attribute '__getitem__'"
     ]
    }
   ],
   "source": [
    "base = 'trainer'\n",
    "files = {} # filename: file object\n",
    "for cell in notebook['cells']:\n",
    "    if cell['cell_type'] != 'code':\n",
    "        continue\n",
    "        \n",
    "    lines = cell['source'].split('\\n')\n",
    "    \n",
    "    # the first line should contain a file name followed by \"##\"\n",
    "    if lines[0].startswith('##'):\n",
    "        filename = lines[0].replace('#', '').strip()\n",
    "        \n",
    "        # open a new file object for the filename if it hasn't been created yet\n",
    "        file_obj = files.setdefault(filename, open(os.path.join(base, filename), 'w'))\n",
    "    else:\n",
    "        # notebook only cells, ignore\n",
    "        continue\n",
    "        \n",
    "    # handle lines that should be added only when exported to .py\n",
    "    # only lines that immediate follow the \"##\" line that starts with \"#\" will have that \"#\" removed\n",
    "    iter_lines = enumerate(lines)\n",
    "    # skip the first line\n",
    "    next(iter_lines)\n",
    "    for i, line in iter_lines:\n",
    "        if line.startswith('#'):\n",
    "            code_line = line.replace('#', '', 1).strip()\n",
    "            file_obj.write(code_line + '\\n')\n",
    "            \n",
    "        else:\n",
    "            # no more \"#\" lines\n",
    "            break\n",
    "    \n",
    "    # other lines will just be copied over as is\n",
    "    for line in lines[i:]:\n",
    "        file_obj.write(line + '\\n')\n",
    "\n",
    "for filename, file_obj in files.items():\n",
    "    print('File written: {}'.format(filename))\n",
    "    file_obj.close()\n",
    "    "
   ]
  },
  {
   "cell_type": "code",
   "execution_count": 35,
   "metadata": {},
   "outputs": [
    {
     "data": {
      "text/plain": [
       "{u'cells': [{u'cell_type': u'code',\n",
       "   u'execution_count': 23,\n",
       "   u'metadata': {},\n",
       "   u'outputs': [],\n",
       "   u'source': u'## getdata.py\\nfrom keras.datasets import mnist\\nfrom keras.utils.np_utils import to_categorical'},\n",
       "  {u'cell_type': u'code',\n",
       "   u'execution_count': 24,\n",
       "   u'metadata': {},\n",
       "   u'outputs': [],\n",
       "   u'source': u'## getdata.py\\n(x_train, y_train), (x_test, y_test) = mnist.load_data()\\n\\n# one-hot encoding\\ny_train = to_categorical(y_train, num_classes=10)\\ny_test = to_categorical(y_test, num_classes=10)'},\n",
       "  {u'cell_type': u'markdown',\n",
       "   u'metadata': {},\n",
       "   u'source': u'Visualization/Exploration'},\n",
       "  {u'cell_type': u'code',\n",
       "   u'execution_count': 25,\n",
       "   u'metadata': {},\n",
       "   u'outputs': [],\n",
       "   u'source': u'from matplotlib import pyplot as plt'},\n",
       "  {u'cell_type': u'code',\n",
       "   u'execution_count': 26,\n",
       "   u'metadata': {},\n",
       "   u'outputs': [{u'data': {u'image/png': u'iVBORw0KGgoAAAANSUhEUgAAAP8AAAD8CAYAAAC4nHJkAAAABHNCSVQICAgIfAhkiAAAAAlwSFlz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\\nRfiBoAg/EBThB4Ii/EBQ/weCC5r/92q6mAAAAABJRU5ErkJggg==\\n',\n",
       "      u'text/plain': u'<matplotlib.figure.Figure at 0x122827490>'},\n",
       "     u'metadata': {},\n",
       "     u'output_type': u'display_data'}],\n",
       "   u'source': u\"plt.imshow(x_train[0], cmap='gray')\\nplt.show()\"},\n",
       "  {u'cell_type': u'code',\n",
       "   u'execution_count': 27,\n",
       "   u'metadata': {},\n",
       "   u'outputs': [{u'name': u'stdout',\n",
       "     u'output_type': u'stream',\n",
       "     u'text': u'(60000, 28, 28)\\n'}],\n",
       "   u'source': u'print(x_train.shape)'},\n",
       "  {u'cell_type': u'code',\n",
       "   u'execution_count': 28,\n",
       "   u'metadata': {},\n",
       "   u'outputs': [{u'name': u'stdout',\n",
       "     u'output_type': u'stream',\n",
       "     u'text': u'[[0. 0. 0. 0. 0. 1. 0. 0. 0. 0.]\\n [1. 0. 0. 0. 0. 0. 0. 0. 0. 0.]\\n [0. 0. 0. 0. 1. 0. 0. 0. 0. 0.]\\n [0. 1. 0. 0. 0. 0. 0. 0. 0. 0.]\\n [0. 0. 0. 0. 0. 0. 0. 0. 0. 1.]\\n [0. 0. 1. 0. 0. 0. 0. 0. 0. 0.]\\n [0. 1. 0. 0. 0. 0. 0. 0. 0. 0.]\\n [0. 0. 0. 1. 0. 0. 0. 0. 0. 0.]\\n [0. 1. 0. 0. 0. 0. 0. 0. 0. 0.]\\n [0. 0. 0. 0. 1. 0. 0. 0. 0. 0.]]\\n'}],\n",
       "   u'source': u'print(y_train[:10])'},\n",
       "  {u'cell_type': u'code',\n",
       "   u'execution_count': 29,\n",
       "   u'metadata': {},\n",
       "   u'outputs': [],\n",
       "   u'source': u\"## task.py\\n# from getdata import x_train, y_train # This is added to the exported .py file\\n\\nimport keras\\n\\nmodel = keras.models.Sequential()\\nmodel.add(keras.layers.Flatten(input_shape=(28, 28)))\\nmodel.add(keras.layers.Dense(128, activation='relu'))\\nmodel.add(keras.layers.Dense(10, activation='softmax'))\"},\n",
       "  {u'cell_type': u'code',\n",
       "   u'execution_count': 30,\n",
       "   u'metadata': {},\n",
       "   u'outputs': [],\n",
       "   u'source': u'## task.py\\n\\noptimizer = keras.optimizers.RMSprop()\\nloss = keras.losses.categorical_crossentropy\\n\\nmodel.compile(optimizer, loss)'},\n",
       "  {u'cell_type': u'code',\n",
       "   u'execution_count': 32,\n",
       "   u'metadata': {},\n",
       "   u'outputs': [{u'name': u'stdout',\n",
       "     u'output_type': u'stream',\n",
       "     u'text': u'Epoch 1/2\\n60000/60000 [==============================] - 4s - loss: 5.6048     \\nEpoch 2/2\\n60000/60000 [==============================] - 4s - loss: 5.5616     \\n'},\n",
       "    {u'data': {u'text/plain': u'<keras.callbacks.History at 0x129c5c9d0>'},\n",
       "     u'execution_count': 32,\n",
       "     u'metadata': {},\n",
       "     u'output_type': u'execute_result'}],\n",
       "   u'source': u'## task.py\\n\\nmodel.fit(x_train, y_train, epochs=2)'},\n",
       "  {u'cell_type': u'code',\n",
       "   u'execution_count': None,\n",
       "   u'metadata': {},\n",
       "   u'outputs': [],\n",
       "   u'source': ''},\n",
       "  {u'cell_type': u'code',\n",
       "   u'execution_count': None,\n",
       "   u'metadata': {},\n",
       "   u'outputs': [],\n",
       "   u'source': u'import nbformat\\nc = nbformat.read()'}],\n",
       " u'metadata': {u'kernelspec': {u'display_name': u'Python 2',\n",
       "   u'language': u'python',\n",
       "   u'name': u'python2'},\n",
       "  u'language_info': {u'codemirror_mode': {u'name': u'ipython', u'version': 2},\n",
       "   u'file_extension': u'.py',\n",
       "   u'mimetype': u'text/x-python',\n",
       "   u'name': u'python',\n",
       "   u'nbconvert_exporter': u'python',\n",
       "   u'pygments_lexer': u'ipython2',\n",
       "   u'version': u'2.7.10'}},\n",
       " u'nbformat': 4,\n",
       " u'nbformat_minor': 2}"
      ]
     },
     "execution_count": 35,
     "metadata": {},
     "output_type": "execute_result"
    }
   ],
   "source": [
    "\n",
    "c"
   ]
  },
  {
   "cell_type": "code",
   "execution_count": null,
   "metadata": {},
   "outputs": [],
   "source": []
  }
 ],
 "metadata": {
  "kernelspec": {
   "display_name": "Python 2",
   "language": "python",
   "name": "python2"
  },
  "language_info": {
   "codemirror_mode": {
    "name": "ipython",
    "version": 2
   },
   "file_extension": ".py",
   "mimetype": "text/x-python",
   "name": "python",
   "nbconvert_exporter": "python",
   "pygments_lexer": "ipython2",
   "version": "2.7.10"
  }
 },
 "nbformat": 4,
 "nbformat_minor": 2
}
